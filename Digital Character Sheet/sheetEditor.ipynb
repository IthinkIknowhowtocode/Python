{
 "cells": [
  {
   "cell_type": "code",
   "execution_count": 1,
   "metadata": {},
   "outputs": [],
   "source": [
    "import random\n",
    "import time"
   ]
  },
  {
   "cell_type": "code",
   "execution_count": 15,
   "metadata": {},
   "outputs": [
    {
     "name": "stdout",
     "output_type": "stream",
     "text": [
      "The die landed on: 2686614611\n"
     ]
    }
   ],
   "source": [
    "dieType = input('Which die do you want to roll?')\n",
    "integerDieType = int(dieType)\n",
    "\n",
    "dieOut = random.randint(1,integerDieType)\n",
    "print('The die landed on:',dieOut)"
   ]
  },
  {
   "cell_type": "code",
   "execution_count": 23,
   "metadata": {},
   "outputs": [
    {
     "name": "stdout",
     "output_type": "stream",
     "text": [
      "First Sword dmg: 1d8 + 1d6+5 atk:+ 10\n",
      "Second Sword dmg: 1d8 + 1d6+5 atk:+ 10\n",
      "Fist dmg: 1d6+5 atk:+ 8\n"
     ]
    }
   ],
   "source": [
    "attack = input('what would you like to attack with?')\n",
    "if attack == swordOne:\n",
    "    dieOut = random.randint(1,integerDieType)\n",
    "    print('The die landed on:',dieOut)\n",
    "swordOneAttack = 10\n",
    "swordOne = 'First Sword dmg: 1d8 + 1d6+5 atk:+'\n",
    "swordTwoAttack = 10\n",
    "swordTwo = 'Second Sword dmg: 1d8 + 1d6+5 atk:+'\n",
    "fistAttack = 8\n",
    "Fist = 'Fist dmg: 1d6+5 atk:+'\n",
    "print(swordOne, swordOneAttack)\n",
    "print(swordTwo, swordTwoAttack)\n",
    "print(Fist, fistAttack)"
   ]
  }
 ],
 "metadata": {
  "kernelspec": {
   "display_name": "Python 3.10.4 64-bit",
   "language": "python",
   "name": "python3"
  },
  "language_info": {
   "codemirror_mode": {
    "name": "ipython",
    "version": 3
   },
   "file_extension": ".py",
   "mimetype": "text/x-python",
   "name": "python",
   "nbconvert_exporter": "python",
   "pygments_lexer": "ipython3",
   "version": "3.10.4"
  },
  "orig_nbformat": 4,
  "vscode": {
   "interpreter": {
    "hash": "0f2f6c680cf484319d387fabac80ca4ff4fc33965036e02100b3fe02600f1423"
   }
  }
 },
 "nbformat": 4,
 "nbformat_minor": 2
}
