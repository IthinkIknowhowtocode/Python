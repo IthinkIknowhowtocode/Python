{
 "cells": [
  {
   "cell_type": "code",
   "execution_count": 32,
   "metadata": {},
   "outputs": [
    {
     "name": "stdout",
     "output_type": "stream",
     "text": [
      "<h4 class=\"nomargin font-sans-serif heavy\">\n",
      " 2\n",
      " <small class=\"unit\">\n",
      "  ft\n",
      " </small>\n",
      "</h4>\n",
      "\n"
     ]
    }
   ],
   "source": [
    "from email.base64mime import header_length\n",
    "from posixpath import splitext\n",
    "from urllib.request import Request, urlopen\n",
    "from bs4 import BeautifulSoup\n",
    "import requests\n",
    "url_to_scrape = 'https://magicseaweed.com/Betset-Surf-Report/4738/'\n",
    "req = Request('https://magicseaweed.com/Betset-Surf-Report/4738/', headers={'User-Agent': 'Mozilla/5.0'})\n",
    "request_page = urlopen(req)\n",
    "page_html = request_page.read()\n",
    "request_page.close()\n",
    "\n",
    "html_soup = BeautifulSoup(page_html, 'html.parser')\n",
    "\n",
    "detailsForTime = html_soup.find('tr',{'data-timestamp': '1660100400'})\n",
    "\n",
    "something = detailsForTime.find('h4', {'class': 'nomargin font-sans-serif heavy'})\n",
    "prettySomething = something.prettify()\n",
    "\n"
   ]
  }
 ],
 "metadata": {
  "kernelspec": {
   "display_name": "Python 3.10.4 64-bit",
   "language": "python",
   "name": "python3"
  },
  "language_info": {
   "codemirror_mode": {
    "name": "ipython",
    "version": 3
   },
   "file_extension": ".py",
   "mimetype": "text/x-python",
   "name": "python",
   "nbconvert_exporter": "python",
   "pygments_lexer": "ipython3",
   "version": "3.10.4"
  },
  "orig_nbformat": 4,
  "vscode": {
   "interpreter": {
    "hash": "0f2f6c680cf484319d387fabac80ca4ff4fc33965036e02100b3fe02600f1423"
   }
  }
 },
 "nbformat": 4,
 "nbformat_minor": 2
}
